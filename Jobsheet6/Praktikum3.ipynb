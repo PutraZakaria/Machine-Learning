{
 "cells": [
  {
   "cell_type": "markdown",
   "metadata": {},
   "source": [
    "# Stacking"
   ]
  },
  {
   "cell_type": "code",
   "execution_count": 6,
   "metadata": {},
   "outputs": [
    {
     "name": "stderr",
     "output_type": "stream",
     "text": [
      "c:\\Users\\user\\anaconda3\\Lib\\site-packages\\sklearn\\ensemble\\_weight_boosting.py:519: FutureWarning: The SAMME.R algorithm (the default) is deprecated and will be removed in 1.6. Use the SAMME algorithm to circumvent this warning.\n",
      "  warnings.warn(\n"
     ]
    },
    {
     "name": "stdout",
     "output_type": "stream",
     "text": [
      "Random Forest Accuracy: 1.0000\n",
      "AdaBoost Accuracy: 1.0000\n",
      "Stacking Classifier Accuracy: 1.0000\n",
      "\n",
      "Accuracy Differences:\n",
      "Random Forest vs Stacking: 0.0000\n",
      "AdaBoost vs Stacking: 0.0000\n"
     ]
    }
   ],
   "source": [
    "from sklearn.ensemble import RandomForestClassifier, StackingClassifier, AdaBoostClassifier\n",
    "from sklearn.linear_model import LogisticRegression\n",
    "from sklearn.model_selection import train_test_split\n",
    "from sklearn.neighbors import KNeighborsClassifier\n",
    "from sklearn.tree import DecisionTreeClassifier\n",
    "from sklearn.metrics import accuracy_score\n",
    "import pandas as pd\n",
    "from sklearn.preprocessing import LabelEncoder\n",
    "\n",
    "# Load data\n",
    "df_mushrooms = pd.read_csv('data/mushrooms.csv')\n",
    "\n",
    "X = df_mushrooms.iloc[:,1:]\n",
    "y = df_mushrooms['class']\n",
    "le = LabelEncoder()\n",
    "y = le.fit_transform(y)\n",
    "\n",
    "# Assuming X and y are already defined\n",
    "X_train, X_test, y_train, y_test = train_test_split(X, y, stratify=y, random_state=42)\n",
    "\n",
    "for col in X_train.select_dtypes(include=['object']).columns:\n",
    "    X_train[col] = le.fit_transform(X_train[col])\n",
    "    X_test[col] = le.transform(X_test[col])\n",
    "\n",
    "# Define layer one estimators for Stacking\n",
    "layer_one_estimators = [\n",
    "    ('rf_1', RandomForestClassifier(n_estimators=10, random_state=42)),\n",
    "    ('knn_1', KNeighborsClassifier(n_neighbors=5))\n",
    "]\n",
    "\n",
    "# Define layer two estimators for Stacking\n",
    "layer_two_estimators = [\n",
    "    ('dt_2', DecisionTreeClassifier()),\n",
    "    ('rf_2', RandomForestClassifier(n_estimators=50, random_state=42)),\n",
    "]\n",
    "layer_two = StackingClassifier(estimators=layer_two_estimators, final_estimator=LogisticRegression())\n",
    "\n",
    "# Create classifiers\n",
    "random_forest = RandomForestClassifier(n_estimators=50, random_state=42)\n",
    "adaboost = AdaBoostClassifier(n_estimators=50, random_state=42)\n",
    "\n",
    "# Fit classifiers\n",
    "random_forest.fit(X_train, y_train)\n",
    "adaboost.fit(X_train, y_train)\n",
    "clf = StackingClassifier(estimators=layer_one_estimators, final_estimator=layer_two)\n",
    "clf.fit(X_train, y_train)\n",
    "\n",
    "# Get accuracy scores\n",
    "rf_accuracy = accuracy_score(y_test, random_forest.predict(X_test))\n",
    "ada_accuracy = accuracy_score(y_test, adaboost.predict(X_test))\n",
    "stack_accuracy = accuracy_score(y_test, clf.predict(X_test))\n",
    "\n",
    "# Print accuracies\n",
    "print(f\"Random Forest Accuracy: {rf_accuracy:.4f}\")\n",
    "print(f\"AdaBoost Accuracy: {ada_accuracy:.4f}\")\n",
    "print(f\"Stacking Classifier Accuracy: {stack_accuracy:.4f}\")\n",
    "\n",
    "# Calculate and print accuracy differences\n",
    "accuracy_differences = {\n",
    "    'Random Forest vs Stacking': rf_accuracy - stack_accuracy,\n",
    "    'AdaBoost vs Stacking': ada_accuracy - stack_accuracy,\n",
    "}\n",
    "\n",
    "print(\"\\nAccuracy Differences:\")\n",
    "for key, value in accuracy_differences.items():\n",
    "    print(f\"{key}: {value:.4f}\")\n"
   ]
  }
 ],
 "metadata": {
  "kernelspec": {
   "display_name": "base",
   "language": "python",
   "name": "python3"
  },
  "language_info": {
   "codemirror_mode": {
    "name": "ipython",
    "version": 3
   },
   "file_extension": ".py",
   "mimetype": "text/x-python",
   "name": "python",
   "nbconvert_exporter": "python",
   "pygments_lexer": "ipython3",
   "version": "3.12.3"
  }
 },
 "nbformat": 4,
 "nbformat_minor": 2
}
